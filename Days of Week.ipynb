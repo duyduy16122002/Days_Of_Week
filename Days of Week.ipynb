{
 "cells": [
  {
   "cell_type": "code",
   "execution_count": 1,
   "id": "fcf03e4b",
   "metadata": {},
   "outputs": [
    {
     "name": "stdout",
     "output_type": "stream",
     "text": [
      "Give me a number (form 1 to 7): 5\n",
      "Friday\n"
     ]
    }
   ],
   "source": [
    "check = ['','Monday','Tuesday','Wednesday','Thursday','Friday','Saturday','Sunday']\n",
    "n = int(input(\"Give me a number (form 1 to 7): \"))\n",
    "print(check[n])"
   ]
  }
 ],
 "metadata": {
  "kernelspec": {
   "display_name": "Python 3 (ipykernel)",
   "language": "python",
   "name": "python3"
  },
  "language_info": {
   "codemirror_mode": {
    "name": "ipython",
    "version": 3
   },
   "file_extension": ".py",
   "mimetype": "text/x-python",
   "name": "python",
   "nbconvert_exporter": "python",
   "pygments_lexer": "ipython3",
   "version": "3.9.12"
  }
 },
 "nbformat": 4,
 "nbformat_minor": 5
}
